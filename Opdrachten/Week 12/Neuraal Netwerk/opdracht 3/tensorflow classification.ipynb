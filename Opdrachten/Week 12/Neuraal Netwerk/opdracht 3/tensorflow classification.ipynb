{
 "cells": [
  {
   "cell_type": "code",
   "execution_count": null,
   "id": "initial_id",
   "metadata": {
    "collapsed": true
   },
   "outputs": [],
   "source": [
    "import tensorflow as tf\n",
    "from tensorflow.keras.datasets import fashion_mnist\n",
    "from sklearn.metrics import confusion_matrix, ConfusionMatrixDisplay\n",
    "\n",
    "\n",
    "(train_data, train_labels), (test_data, test_labels) = fashion_mnist.load_data()"
   ]
  },
  {
   "metadata": {},
   "cell_type": "code",
   "outputs": [],
   "execution_count": null,
   "source": [
    "print(\"My train data Shape:\", train_data.shape)\n",
    "print(\"My train labels :\", train_labels.shape)\n",
    "print(\"Maximum label : \", train_labels.max())"
   ],
   "id": "9f2ab484030c354a"
  },
  {
   "metadata": {},
   "cell_type": "code",
   "outputs": [],
   "execution_count": null,
   "source": [
    "class_names = ['T-shirt/top', 'Trouser', 'Pullover', 'Dress', 'Coat',\n",
    "               'Sandal', 'Shirt', 'Sneaker', 'Bag', 'Ankle boot']\n",
    "index_of_choice = 100\n",
    "plt.imshow(train_data[index_of_choice],cmap=plt.cm.binary)\n",
    "plt.title(class_names[train_labels[index_of_choice]])"
   ],
   "id": "1416285fbfa0bee"
  },
  {
   "metadata": {},
   "cell_type": "code",
   "outputs": [],
   "execution_count": null,
   "source": [
    "model_1 = tf.keras.Sequential([\n",
    "    tf.keras.layers.Flatten(input_shape= train_data[0].shape),\n",
    "    tf.keras.layers.Dense(4, activation=tf.keras.activations.relu),\n",
    "    tf.keras.layers.Dense(4, activation=tf.keras.activations.relu),\n",
    "    tf.keras.layers.Dense(10, activation=tf.keras.activations.softmax)\n",
    "])\n",
    "\n",
    "model_1.compile(loss = tf.keras.losses.SparseCategoricalCrossentropy(),\n",
    "                optimizer = tf.keras.optimizers.Adam(),\n",
    "                metrics = [\"Accuracy\"])\n",
    "\n",
    "non_norm_history = model_1.fit(train_data,train_labels,epochs=10,validation_data=(test_data, test_labels))"
   ],
   "id": "96710b444eb9b6d6"
  },
  {
   "metadata": {},
   "cell_type": "code",
   "outputs": [],
   "execution_count": null,
   "source": [
    "train_data_norm = train_data / train_data.max()\n",
    "test_data_norm = test_data / test_data.max()"
   ],
   "id": "be3300f01165faf0"
  },
  {
   "metadata": {},
   "cell_type": "code",
   "outputs": [],
   "execution_count": null,
   "source": [
    "model = tf.keras.Sequential([\n",
    "    tf.keras.layers.Flatten(input_shape= train_data[0].shape),\n",
    "    tf.keras.layers.Dense(392, activation=tf.keras.activations.relu),\n",
    "    tf.keras.layers.Dense(200, activation=tf.keras.activations.relu),\n",
    "    tf.keras.layers.Dense(10, activation=tf.keras.activations.softmax)\n",
    "])\n",
    "\n",
    "model.compile(loss = tf.keras.losses.SparseCategoricalCrossentropy(),\n",
    "                optimizer = tf.keras.optimizers.Adam(0.001),\n",
    "                metrics = [\"Accuracy\"])\n",
    "norm_history = model.fit(train_data_norm,train_labels,epochs=10,validation_data=(test_data_norm, test_labels))"
   ],
   "id": "480c1b31cbed88a6"
  },
  {
   "metadata": {},
   "cell_type": "code",
   "outputs": [],
   "execution_count": null,
   "source": [
    "pred_probs = model.predict(test_data_norm)\n",
    "pred_labels = np.argmax(pred_probs, axis=1)"
   ],
   "id": "d2c3a6604c478700"
  },
  {
   "metadata": {},
   "cell_type": "code",
   "outputs": [],
   "execution_count": null,
   "source": "cm = confusion_matrix(test_labels, pred_labels)",
   "id": "e1f75e288f5a2f2b"
  },
  {
   "metadata": {},
   "cell_type": "code",
   "outputs": [],
   "execution_count": null,
   "source": [
    "# Zet om naar percentages per rij (per echte klasse)\n",
    "cm_percent = cm.astype('float') / cm.sum(axis=1)[:, np.newaxis] * 100\n"
   ],
   "id": "80375a5fefd15720"
  },
  {
   "metadata": {},
   "cell_type": "code",
   "outputs": [],
   "execution_count": null,
   "source": [
    "# Plot de percentage-matrix\n",
    "plt.figure(figsize=(10, 8))\n",
    "sns.heatmap(cm_percent, annot=True, fmt=\".1f\", cmap=\"Blues\", xticklabels=class_names, yticklabels=class_names)\n",
    "plt.xlabel(\"Voorspelde labels\")\n",
    "plt.ylabel(\"Echte labels\")\n",
    "plt.title(\"Confusion Matrix in % per klasse (rij)\")\n",
    "plt.show()"
   ],
   "id": "99e8f2db77ddadcd"
  },
  {
   "metadata": {},
   "cell_type": "code",
   "outputs": [],
   "execution_count": null,
   "source": [
    "import random\n",
    "def plot_random_image(model, images, true_labels, classes):\n",
    "  i = random.randint(0, len(images))\n",
    "  image_to_predict = images[i]\n",
    "  true_positive_image = classes[true_labels[i]]\n",
    "  pred_probs = model.predict(tf.expand_dims(image_to_predict, axis=0))\n",
    "  predicted_image = classes[pred_probs.argmax()]\n",
    "\n",
    "  plt.imshow(image_to_predict, cmap=plt.cm.binary)\n",
    "  if(predicted_image == true_positive_image):\n",
    "    color = \"green\"\n",
    "  else:\n",
    "    color = \"red\"\n",
    "\n",
    "  plt.xlabel(\"Pred: {} {:2.0f}% (True: {})\".format(predicted_image,\n",
    "                                                    100*tf.reduce_max(pred_probs),\n",
    "                                                    true_positive_image),color=color)\n",
    "\n",
    "plot_random_image(model,test_data_norm,test_labels,class_names)"
   ],
   "id": "37b3f9cbda95ebf3"
  }
 ],
 "metadata": {
  "kernelspec": {
   "display_name": "Python 3",
   "language": "python",
   "name": "python3"
  },
  "language_info": {
   "codemirror_mode": {
    "name": "ipython",
    "version": 2
   },
   "file_extension": ".py",
   "mimetype": "text/x-python",
   "name": "python",
   "nbconvert_exporter": "python",
   "pygments_lexer": "ipython2",
   "version": "2.7.6"
  }
 },
 "nbformat": 4,
 "nbformat_minor": 5
}
