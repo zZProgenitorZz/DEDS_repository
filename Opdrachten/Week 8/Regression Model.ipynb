{
 "cells": [
  {
   "metadata": {
    "ExecuteTime": {
     "end_time": "2025-04-16T12:54:56.048229Z",
     "start_time": "2025-04-16T12:54:36.323612Z"
    }
   },
   "cell_type": "code",
   "source": [
    "import pyodbc\n",
    "import sqlite3\n",
    "import pandas as pd\n",
    "import datetime as datetime\n",
    "import warnings\n",
    "from sklearn.model_selection import train_test_split\n",
    "import random\n",
    "from sklearn import linear_model\n",
    "from sklearn.linear_model import LinearRegression\n",
    "from sklearn.metrics import mean_squared_error, mean_absolute_error\n",
    "import matplotlib.pyplot as plt\n",
    "warnings.filterwarnings('ignore')\n"
   ],
   "id": "664e475e0d1dd021",
   "outputs": [],
   "execution_count": 1
  },
  {
   "metadata": {
    "ExecuteTime": {
     "end_time": "2025-04-16T12:57:28.288288Z",
     "start_time": "2025-04-16T12:57:28.242965Z"
    }
   },
   "cell_type": "code",
   "source": [
    "\n",
    "\n",
    "DB_SOURCE = {\n",
    "    'servername': r'LAPTOP-PRQNR6SS\\SQLEXPRESS',\n",
    "    'database': 'warehouse_united_outdoor'\n",
    "}\n",
    "\n",
    "\n",
    "\n",
    "source_conn = pyodbc.connect(\n",
    "    'DRIVER={SQL Server};'\n",
    "    f\"SERVER={DB_SOURCE['servername']};\"\n",
    "    f\"DATABASE={DB_SOURCE['database']};\"\n",
    "    \"Trusted_Connection=yes;\"\n",
    ")\n",
    "\n",
    "\n",
    "source_cursor = source_conn.cursor()\n",
    "\n",
    "\n",
    "print(\"Succesvol verbonden met databases!\")"
   ],
   "id": "d70585d051f0da97",
   "outputs": [
    {
     "name": "stdout",
     "output_type": "stream",
     "text": [
      "Succesvol verbonden met databases!\n"
     ]
    }
   ],
   "execution_count": 4
  },
  {
   "metadata": {},
   "cell_type": "markdown",
   "source": "### Alle tabellen",
   "id": "c6065042ad86162e"
  },
  {
   "metadata": {
    "ExecuteTime": {
     "end_time": "2025-04-16T12:57:32.304031Z",
     "start_time": "2025-04-16T12:57:32.240946Z"
    }
   },
   "cell_type": "code",
   "source": [
    "# Haal een lijst van tabellen op uit de bron-database\n",
    "sql_query = \"SELECT TABLE_NAME FROM INFORMATION_SCHEMA.TABLES WHERE TABLE_TYPE = 'BASE TABLE'\"\n",
    "\n",
    "\n",
    "# Gebruik pandas om de query uit te voeren en de tabellen op te halen\n",
    "tables_df = pd.read_sql(sql_query, source_conn)\n",
    "\n",
    "# Print de lijst van tabellen\n",
    "tables_df"
   ],
   "id": "96aeac886dbe54ca",
   "outputs": [
    {
     "data": {
      "text/plain": [
       "   TABLE_NAME\n",
       "0    customer\n",
       "1    employee\n",
       "2  order_fact\n",
       "3     product"
      ],
      "text/html": [
       "<div>\n",
       "<style scoped>\n",
       "    .dataframe tbody tr th:only-of-type {\n",
       "        vertical-align: middle;\n",
       "    }\n",
       "\n",
       "    .dataframe tbody tr th {\n",
       "        vertical-align: top;\n",
       "    }\n",
       "\n",
       "    .dataframe thead th {\n",
       "        text-align: right;\n",
       "    }\n",
       "</style>\n",
       "<table border=\"1\" class=\"dataframe\">\n",
       "  <thead>\n",
       "    <tr style=\"text-align: right;\">\n",
       "      <th></th>\n",
       "      <th>TABLE_NAME</th>\n",
       "    </tr>\n",
       "  </thead>\n",
       "  <tbody>\n",
       "    <tr>\n",
       "      <th>0</th>\n",
       "      <td>customer</td>\n",
       "    </tr>\n",
       "    <tr>\n",
       "      <th>1</th>\n",
       "      <td>employee</td>\n",
       "    </tr>\n",
       "    <tr>\n",
       "      <th>2</th>\n",
       "      <td>order_fact</td>\n",
       "    </tr>\n",
       "    <tr>\n",
       "      <th>3</th>\n",
       "      <td>product</td>\n",
       "    </tr>\n",
       "  </tbody>\n",
       "</table>\n",
       "</div>"
      ]
     },
     "execution_count": 5,
     "metadata": {},
     "output_type": "execute_result"
    }
   ],
   "execution_count": 5
  },
  {
   "metadata": {},
   "cell_type": "code",
   "source": [
    "order_query = 'SELECT * FROM order_fact'\n",
    "order_df = pd.read_sql(order_query, source_conn)\n",
    "\n",
    "product_query = 'SELECT * FROM product'\n",
    "product_df = pd.read_sql(product_query, source_conn)\n",
    "\n",
    "employee_query = 'SELECT * FROM employee'\n",
    "employee_df = pd.read_sql(employee_query, source_conn)\n",
    "\n",
    "customers_query = 'SELECT * FROM customer'\n",
    "customer_df = pd.read_sql(customers_query, source_conn)"
   ],
   "id": "201b3237f8d47db7",
   "outputs": [],
   "execution_count": null
  },
  {
   "metadata": {
    "ExecuteTime": {
     "end_time": "2025-04-16T13:45:07.474949Z",
     "start_time": "2025-04-16T13:45:07.251134Z"
    }
   },
   "cell_type": "code",
   "source": [
    "order_df['product_id'] = order_df['product_id'].astype(str)\n",
    "product_df['product_id'] = product_df['product_id'].astype(str)\n",
    "\n",
    "order_merge = pd.merge(order_df, product_df, how='inner', on='product_id')\n",
    "\n",
    "order_merge = pd.to_datetime(order_merge['order_date'], format = 'mixed')\n",
    "\n",
    "\n",
    "order_merge"
   ],
   "id": "26615785e65ef72a",
   "outputs": [
    {
     "data": {
      "text/plain": [
       "0        2022-07-04\n",
       "1        2022-07-04\n",
       "2        2022-07-04\n",
       "3        2022-07-05\n",
       "4        2022-07-05\n",
       "            ...    \n",
       "124570   2024-03-09\n",
       "124571   2024-03-09\n",
       "124572   2024-03-10\n",
       "124573   2024-03-14\n",
       "124574   2024-03-14\n",
       "Name: order_date, Length: 124575, dtype: datetime64[ns]"
      ]
     },
     "execution_count": 78,
     "metadata": {},
     "output_type": "execute_result"
    }
   ],
   "execution_count": 78
  },
  {
   "metadata": {},
   "cell_type": "markdown",
   "source": "### Dummmies maken",
   "id": "aac77172fed1064e"
  },
  {
   "metadata": {
    "ExecuteTime": {
     "end_time": "2025-04-16T13:32:43.074821Z",
     "start_time": "2025-04-16T13:32:42.998902Z"
    }
   },
   "cell_type": "code",
   "source": [
    "order = order_merge.loc[:, ['trademark', 'order_id', 'quantity', 'total_amount', 'unit_price']]\n",
    "dummies_dataframe = pd.get_dummies(order, columns=['trademark'])\n",
    "dummies_dataframe"
   ],
   "id": "bc7a369292f10a22",
   "outputs": [
    {
     "data": {
      "text/plain": [
       "        order_id  quantity  total_amount  unit_price  trademark_AW  \\\n",
       "0          10248        12        168.00       21.00         False   \n",
       "1          10248        10         98.00       14.00         False   \n",
       "2          10248         5        174.00       34.80         False   \n",
       "3          10249         9        167.40       23.25         False   \n",
       "4          10249        40       1696.00       53.00         False   \n",
       "...          ...       ...           ...         ...           ...   \n",
       "124570     67950         1          2.29        0.86          True   \n",
       "124571     67916         1          4.99        1.87          True   \n",
       "124572     68016         1       2384.07     1481.94          True   \n",
       "124573     68223         1         34.99       13.09          True   \n",
       "124574     68204         1       2319.99     1265.62          True   \n",
       "\n",
       "        trademark_AenC  trademark_NW  \n",
       "0                False          True  \n",
       "1                False          True  \n",
       "2                False          True  \n",
       "3                False          True  \n",
       "4                False          True  \n",
       "...                ...           ...  \n",
       "124570           False         False  \n",
       "124571           False         False  \n",
       "124572           False         False  \n",
       "124573           False         False  \n",
       "124574           False         False  \n",
       "\n",
       "[124575 rows x 7 columns]"
      ],
      "text/html": [
       "<div>\n",
       "<style scoped>\n",
       "    .dataframe tbody tr th:only-of-type {\n",
       "        vertical-align: middle;\n",
       "    }\n",
       "\n",
       "    .dataframe tbody tr th {\n",
       "        vertical-align: top;\n",
       "    }\n",
       "\n",
       "    .dataframe thead th {\n",
       "        text-align: right;\n",
       "    }\n",
       "</style>\n",
       "<table border=\"1\" class=\"dataframe\">\n",
       "  <thead>\n",
       "    <tr style=\"text-align: right;\">\n",
       "      <th></th>\n",
       "      <th>order_id</th>\n",
       "      <th>quantity</th>\n",
       "      <th>total_amount</th>\n",
       "      <th>unit_price</th>\n",
       "      <th>trademark_AW</th>\n",
       "      <th>trademark_AenC</th>\n",
       "      <th>trademark_NW</th>\n",
       "    </tr>\n",
       "  </thead>\n",
       "  <tbody>\n",
       "    <tr>\n",
       "      <th>0</th>\n",
       "      <td>10248</td>\n",
       "      <td>12</td>\n",
       "      <td>168.00</td>\n",
       "      <td>21.00</td>\n",
       "      <td>False</td>\n",
       "      <td>False</td>\n",
       "      <td>True</td>\n",
       "    </tr>\n",
       "    <tr>\n",
       "      <th>1</th>\n",
       "      <td>10248</td>\n",
       "      <td>10</td>\n",
       "      <td>98.00</td>\n",
       "      <td>14.00</td>\n",
       "      <td>False</td>\n",
       "      <td>False</td>\n",
       "      <td>True</td>\n",
       "    </tr>\n",
       "    <tr>\n",
       "      <th>2</th>\n",
       "      <td>10248</td>\n",
       "      <td>5</td>\n",
       "      <td>174.00</td>\n",
       "      <td>34.80</td>\n",
       "      <td>False</td>\n",
       "      <td>False</td>\n",
       "      <td>True</td>\n",
       "    </tr>\n",
       "    <tr>\n",
       "      <th>3</th>\n",
       "      <td>10249</td>\n",
       "      <td>9</td>\n",
       "      <td>167.40</td>\n",
       "      <td>23.25</td>\n",
       "      <td>False</td>\n",
       "      <td>False</td>\n",
       "      <td>True</td>\n",
       "    </tr>\n",
       "    <tr>\n",
       "      <th>4</th>\n",
       "      <td>10249</td>\n",
       "      <td>40</td>\n",
       "      <td>1696.00</td>\n",
       "      <td>53.00</td>\n",
       "      <td>False</td>\n",
       "      <td>False</td>\n",
       "      <td>True</td>\n",
       "    </tr>\n",
       "    <tr>\n",
       "      <th>...</th>\n",
       "      <td>...</td>\n",
       "      <td>...</td>\n",
       "      <td>...</td>\n",
       "      <td>...</td>\n",
       "      <td>...</td>\n",
       "      <td>...</td>\n",
       "      <td>...</td>\n",
       "    </tr>\n",
       "    <tr>\n",
       "      <th>124570</th>\n",
       "      <td>67950</td>\n",
       "      <td>1</td>\n",
       "      <td>2.29</td>\n",
       "      <td>0.86</td>\n",
       "      <td>True</td>\n",
       "      <td>False</td>\n",
       "      <td>False</td>\n",
       "    </tr>\n",
       "    <tr>\n",
       "      <th>124571</th>\n",
       "      <td>67916</td>\n",
       "      <td>1</td>\n",
       "      <td>4.99</td>\n",
       "      <td>1.87</td>\n",
       "      <td>True</td>\n",
       "      <td>False</td>\n",
       "      <td>False</td>\n",
       "    </tr>\n",
       "    <tr>\n",
       "      <th>124572</th>\n",
       "      <td>68016</td>\n",
       "      <td>1</td>\n",
       "      <td>2384.07</td>\n",
       "      <td>1481.94</td>\n",
       "      <td>True</td>\n",
       "      <td>False</td>\n",
       "      <td>False</td>\n",
       "    </tr>\n",
       "    <tr>\n",
       "      <th>124573</th>\n",
       "      <td>68223</td>\n",
       "      <td>1</td>\n",
       "      <td>34.99</td>\n",
       "      <td>13.09</td>\n",
       "      <td>True</td>\n",
       "      <td>False</td>\n",
       "      <td>False</td>\n",
       "    </tr>\n",
       "    <tr>\n",
       "      <th>124574</th>\n",
       "      <td>68204</td>\n",
       "      <td>1</td>\n",
       "      <td>2319.99</td>\n",
       "      <td>1265.62</td>\n",
       "      <td>True</td>\n",
       "      <td>False</td>\n",
       "      <td>False</td>\n",
       "    </tr>\n",
       "  </tbody>\n",
       "</table>\n",
       "<p>124575 rows × 7 columns</p>\n",
       "</div>"
      ]
     },
     "execution_count": 60,
     "metadata": {},
     "output_type": "execute_result"
    }
   ],
   "execution_count": 60
  },
  {
   "metadata": {},
   "cell_type": "markdown",
   "source": "#### Verticaal en horizontaal snijden\n",
   "id": "145eeb885f2a4068"
  },
  {
   "metadata": {
    "ExecuteTime": {
     "end_time": "2025-04-16T13:32:45.646360Z",
     "start_time": "2025-04-16T13:32:45.599472Z"
    }
   },
   "cell_type": "code",
   "source": [
    "X = dummies_dataframe.loc[dummies_dataframe['quantity'].notna(), :]\n",
    "X = X.drop('quantity', axis=1)\n",
    "Y = dummies_dataframe.loc[dummies_dataframe['quantity'].notna(), ['quantity']]\n",
    "X.info()"
   ],
   "id": "f198057d26830ac4",
   "outputs": [
    {
     "name": "stdout",
     "output_type": "stream",
     "text": [
      "<class 'pandas.core.frame.DataFrame'>\n",
      "Index: 124575 entries, 0 to 124574\n",
      "Data columns (total 6 columns):\n",
      " #   Column          Non-Null Count   Dtype  \n",
      "---  ------          --------------   -----  \n",
      " 0   order_id        124575 non-null  int64  \n",
      " 1   total_amount    124575 non-null  float64\n",
      " 2   unit_price      124575 non-null  float64\n",
      " 3   trademark_AW    124575 non-null  bool   \n",
      " 4   trademark_AenC  124575 non-null  bool   \n",
      " 5   trademark_NW    124575 non-null  bool   \n",
      "dtypes: bool(3), float64(2), int64(1)\n",
      "memory usage: 4.2 MB\n"
     ]
    }
   ],
   "execution_count": 61
  },
  {
   "metadata": {},
   "cell_type": "markdown",
   "source": "### X en Y opsplitsen op trainen en testen",
   "id": "f77efded9f8954e"
  },
  {
   "metadata": {
    "ExecuteTime": {
     "end_time": "2025-04-16T13:32:48.042097Z",
     "start_time": "2025-04-16T13:32:47.995860Z"
    }
   },
   "cell_type": "code",
   "source": [
    "X_train, X_test, y_train, y_test = train_test_split(\n",
    "    X,\n",
    "    Y,\n",
    "    test_size = 0.15,\n",
    "    random_state = 42\n",
    ")"
   ],
   "id": "42723acecee6af4a",
   "outputs": [],
   "execution_count": 62
  },
  {
   "metadata": {},
   "cell_type": "markdown",
   "source": "### RegressionModel Trainen",
   "id": "43d5886ac98d86e0"
  },
  {
   "metadata": {
    "ExecuteTime": {
     "end_time": "2025-04-16T13:32:49.816425Z",
     "start_time": "2025-04-16T13:32:49.776150Z"
    }
   },
   "cell_type": "code",
   "source": [
    "reg_model = linear_model.LinearRegression()\n",
    "reg_model = reg_model.fit(X_train, y_train)"
   ],
   "id": "4bf3b249279972d3",
   "outputs": [],
   "execution_count": 63
  },
  {
   "metadata": {},
   "cell_type": "markdown",
   "source": "### Voorspelling maken",
   "id": "766d6049b5d966c4"
  },
  {
   "metadata": {
    "ExecuteTime": {
     "end_time": "2025-04-16T13:32:52.805561Z",
     "start_time": "2025-04-16T13:32:52.789518Z"
    }
   },
   "cell_type": "code",
   "source": [
    "from sklearn.metrics import r2_score\n",
    "\n",
    "y_pred = reg_model.predict(X_test)\n",
    "\n",
    "\n",
    "# Evaluatie\n",
    "mse = mean_squared_error(y_test, y_pred)\n",
    "r2 = r2_score(y_test, y_pred)\n",
    "\n",
    "print(f\"Mean Squared Error: {mse}\")\n",
    "print(f\"R²-score: {r2}\")"
   ],
   "id": "dbf4c5c6d809f9d9",
   "outputs": [
    {
     "name": "stdout",
     "output_type": "stream",
     "text": [
      "Mean Squared Error: 12.54157942951655\n",
      "R²-score: 0.5253150566483616\n"
     ]
    }
   ],
   "execution_count": 64
  },
  {
   "metadata": {
    "ExecuteTime": {
     "end_time": "2025-04-16T13:27:08.035661Z",
     "start_time": "2025-04-16T13:27:08.025148Z"
    }
   },
   "cell_type": "code",
   "source": [
    "prediction_df = pd.DataFrame(y_pred)\n",
    "prediction_df = prediction_df.rename(columns = {0 : 'Predicted_Quantity'})"
   ],
   "id": "f80f9ca4f2e17e40",
   "outputs": [],
   "execution_count": 37
  },
  {
   "metadata": {
    "ExecuteTime": {
     "end_time": "2025-04-16T13:27:16.653849Z",
     "start_time": "2025-04-16T13:27:16.632998Z"
    }
   },
   "cell_type": "code",
   "source": [
    "y_test_prediction_merge = pd.concat([y_test.reset_index()['quantity'], prediction_df], axis = 1)\n",
    "y_test_prediction_merge.loc[y_test_prediction_merge['Predicted_Quantity'].notna(), :]"
   ],
   "id": "e30950145ab91e2f",
   "outputs": [
    {
     "data": {
      "text/plain": [
       "       quantity  Predicted_Quantity\n",
       "0             1           -0.540692\n",
       "1             3            2.193867\n",
       "2             1            2.656140\n",
       "3             4            6.916642\n",
       "4             1            1.995845\n",
       "...         ...                 ...\n",
       "18682         2            0.800858\n",
       "18683         1            2.342682\n",
       "18684         1            1.633017\n",
       "18685         3            4.049023\n",
       "18686         1            1.261871\n",
       "\n",
       "[18687 rows x 2 columns]"
      ],
      "text/html": [
       "<div>\n",
       "<style scoped>\n",
       "    .dataframe tbody tr th:only-of-type {\n",
       "        vertical-align: middle;\n",
       "    }\n",
       "\n",
       "    .dataframe tbody tr th {\n",
       "        vertical-align: top;\n",
       "    }\n",
       "\n",
       "    .dataframe thead th {\n",
       "        text-align: right;\n",
       "    }\n",
       "</style>\n",
       "<table border=\"1\" class=\"dataframe\">\n",
       "  <thead>\n",
       "    <tr style=\"text-align: right;\">\n",
       "      <th></th>\n",
       "      <th>quantity</th>\n",
       "      <th>Predicted_Quantity</th>\n",
       "    </tr>\n",
       "  </thead>\n",
       "  <tbody>\n",
       "    <tr>\n",
       "      <th>0</th>\n",
       "      <td>1</td>\n",
       "      <td>-0.540692</td>\n",
       "    </tr>\n",
       "    <tr>\n",
       "      <th>1</th>\n",
       "      <td>3</td>\n",
       "      <td>2.193867</td>\n",
       "    </tr>\n",
       "    <tr>\n",
       "      <th>2</th>\n",
       "      <td>1</td>\n",
       "      <td>2.656140</td>\n",
       "    </tr>\n",
       "    <tr>\n",
       "      <th>3</th>\n",
       "      <td>4</td>\n",
       "      <td>6.916642</td>\n",
       "    </tr>\n",
       "    <tr>\n",
       "      <th>4</th>\n",
       "      <td>1</td>\n",
       "      <td>1.995845</td>\n",
       "    </tr>\n",
       "    <tr>\n",
       "      <th>...</th>\n",
       "      <td>...</td>\n",
       "      <td>...</td>\n",
       "    </tr>\n",
       "    <tr>\n",
       "      <th>18682</th>\n",
       "      <td>2</td>\n",
       "      <td>0.800858</td>\n",
       "    </tr>\n",
       "    <tr>\n",
       "      <th>18683</th>\n",
       "      <td>1</td>\n",
       "      <td>2.342682</td>\n",
       "    </tr>\n",
       "    <tr>\n",
       "      <th>18684</th>\n",
       "      <td>1</td>\n",
       "      <td>1.633017</td>\n",
       "    </tr>\n",
       "    <tr>\n",
       "      <th>18685</th>\n",
       "      <td>3</td>\n",
       "      <td>4.049023</td>\n",
       "    </tr>\n",
       "    <tr>\n",
       "      <th>18686</th>\n",
       "      <td>1</td>\n",
       "      <td>1.261871</td>\n",
       "    </tr>\n",
       "  </tbody>\n",
       "</table>\n",
       "<p>18687 rows × 2 columns</p>\n",
       "</div>"
      ]
     },
     "execution_count": 38,
     "metadata": {},
     "output_type": "execute_result"
    }
   ],
   "execution_count": 38
  },
  {
   "metadata": {
    "ExecuteTime": {
     "end_time": "2025-04-16T13:30:12.205124Z",
     "start_time": "2025-04-16T13:30:11.591907Z"
    }
   },
   "cell_type": "code",
   "source": [
    "plt.scatter(y_test_prediction_merge['quantity'], y_test_prediction_merge['Predicted_Quantity'])\n",
    "plt.xlabel('quantity')\n",
    "plt.ylabel('Predicted_Quantity')\n",
    "plt.show()"
   ],
   "id": "7e90b961b29f7a1c",
   "outputs": [
    {
     "data": {
      "text/plain": [
       "<Figure size 640x480 with 1 Axes>"
      ],
      "image/png": "[encoded data removed]"
     },
     "metadata": {},
     "output_type": "display_data"
    }
   ],
   "execution_count": 39
  }
 ],
 "metadata": {
  "kernelspec": {
   "display_name": "Python 3",
   "language": "python",
   "name": "python3"
  },
  "language_info": {
   "codemirror_mode": {
    "name": "ipython",
    "version": 2
   },
   "file_extension": ".py",
   "mimetype": "text/x-python",
   "name": "python",
   "nbconvert_exporter": "python",
   "pygments_lexer": "ipython2",
   "version": "2.7.6"
  }
 },
 "nbformat": 4,
 "nbformat_minor": 5
}
