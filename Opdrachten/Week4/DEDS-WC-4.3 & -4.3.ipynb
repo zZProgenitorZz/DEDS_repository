{
 "cells": [
  {
   "cell_type": "code",
   "execution_count": null,
   "id": "initial_id",
   "metadata": {
    "collapsed": true
   },
   "outputs": [],
   "source": [
    "import pyodbc\n",
    "import pandas as pd\n",
    "import sqlite3\n",
    "import warnings\n",
    "warnings.filterwarnings('ignore')"
   ]
  },
  {
   "metadata": {},
   "cell_type": "code",
   "outputs": [],
   "execution_count": null,
   "source": [
    "\n",
    "\n",
    "DB = {\n",
    "    'servername': r'LAPTOP-PRQNR6SS\\SQLEXPRESS',\n",
    "    'database': 'SDM'\n",
    "}\n",
    "\n",
    "export_conn = pyodbc.connect(\n",
    "    'DRIVER={SQL Server};'\n",
    "    f\"SERVER={DB['servername']};\"\n",
    "    f\"DATABASE={DB['database']};\"\n",
    "    \"Trusted_Connection=yes;\"\n",
    ")\n",
    "\n",
    "export_cursor = export_conn.cursor()\n",
    "print(\"Succesvol verbonden met SQL Server!\")\n"
   ],
   "id": "44f7f5eb9d32e59b"
  },
  {
   "metadata": {},
   "cell_type": "code",
   "outputs": [],
   "execution_count": null,
   "source": "",
   "id": "66920aceee7f66fb"
  }
 ],
 "metadata": {
  "kernelspec": {
   "display_name": "Python 3",
   "language": "python",
   "name": "python3"
  },
  "language_info": {
   "codemirror_mode": {
    "name": "ipython",
    "version": 2
   },
   "file_extension": ".py",
   "mimetype": "text/x-python",
   "name": "python",
   "nbconvert_exporter": "python",
   "pygments_lexer": "ipython2",
   "version": "2.7.6"
  }
 },
 "nbformat": 4,
 "nbformat_minor": 5
}
